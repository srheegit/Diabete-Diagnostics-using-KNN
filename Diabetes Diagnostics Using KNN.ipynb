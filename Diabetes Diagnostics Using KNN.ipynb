{
 "cells": [
  {
   "cell_type": "markdown",
   "id": "5261f153-29be-42d6-aa7c-7cd8235e0783",
   "metadata": {},
   "source": [
    "# Diabetes Diagnostics Using KNN\n",
    "\n",
    "Author: Sahngyoon Rhee"
   ]
  },
  {
   "cell_type": "markdown",
   "id": "90a81a19-6acd-430e-8b4f-416d5c463fd9",
   "metadata": {},
   "source": [
    "K-Nearest-Neighbors (KNN) is a supervised machine learning model that is used for classification tasks. It works by taking a datapoint and looking at the $K$ nearest neighbors and predicting that the datapoint belongs to the class whose label appears most often.\n",
    "\n",
    "For example, if $K = 7$ and $4$ of a datapoint's seven closest neighbors are blue and $3$ are red, that datapoint would be classified as blue.\n",
    "\n",
    "<img src='https://th.bing.com/th/id/OIP.hiUeM5Zt_4iruDN49aHAugHaDt?rs=1&pid=ImgDetMain'>\n",
    "\n",
    "<p style=\"text-align = center;\"> Demonstration of KNN Algorithm. </p>"
   ]
  },
  {
   "cell_type": "markdown",
   "id": "c2745a1a-603b-452e-bf40-b7450e1d9114",
   "metadata": {},
   "source": [
    "We shall conduct Diabetes Diagnostic using KNN through `sklearn`."
   ]
  },
  {
   "cell_type": "markdown",
   "id": "1053ce0c-ce02-485f-b2dc-9ba4276f424f",
   "metadata": {},
   "source": [
    "## Reading the training data\n",
    "\n",
    "We shall read the training data and display the results."
   ]
  },
  {
   "cell_type": "code",
   "execution_count": 1,
   "id": "b122b37a-dd00-4f86-8ec3-868788060fe4",
   "metadata": {},
   "outputs": [
    {
     "data": {
      "text/html": [
       "<div>\n",
       "<style scoped>\n",
       "    .dataframe tbody tr th:only-of-type {\n",
       "        vertical-align: middle;\n",
       "    }\n",
       "\n",
       "    .dataframe tbody tr th {\n",
       "        vertical-align: top;\n",
       "    }\n",
       "\n",
       "    .dataframe thead th {\n",
       "        text-align: right;\n",
       "    }\n",
       "</style>\n",
       "<table border=\"1\" class=\"dataframe\">\n",
       "  <thead>\n",
       "    <tr style=\"text-align: right;\">\n",
       "      <th></th>\n",
       "      <th>Pregnancies</th>\n",
       "      <th>Glucose</th>\n",
       "      <th>BloodPressure</th>\n",
       "      <th>SkinThickness</th>\n",
       "      <th>Insulin</th>\n",
       "      <th>BMI</th>\n",
       "      <th>DiabetesPedigreeFunction</th>\n",
       "      <th>Age</th>\n",
       "      <th>Outcome</th>\n",
       "    </tr>\n",
       "  </thead>\n",
       "  <tbody>\n",
       "    <tr>\n",
       "      <th>0</th>\n",
       "      <td>6</td>\n",
       "      <td>148</td>\n",
       "      <td>72</td>\n",
       "      <td>35</td>\n",
       "      <td>0</td>\n",
       "      <td>33.6</td>\n",
       "      <td>0.627</td>\n",
       "      <td>50</td>\n",
       "      <td>1</td>\n",
       "    </tr>\n",
       "    <tr>\n",
       "      <th>1</th>\n",
       "      <td>1</td>\n",
       "      <td>85</td>\n",
       "      <td>66</td>\n",
       "      <td>29</td>\n",
       "      <td>0</td>\n",
       "      <td>26.6</td>\n",
       "      <td>0.351</td>\n",
       "      <td>31</td>\n",
       "      <td>0</td>\n",
       "    </tr>\n",
       "    <tr>\n",
       "      <th>2</th>\n",
       "      <td>8</td>\n",
       "      <td>183</td>\n",
       "      <td>64</td>\n",
       "      <td>0</td>\n",
       "      <td>0</td>\n",
       "      <td>23.3</td>\n",
       "      <td>0.672</td>\n",
       "      <td>32</td>\n",
       "      <td>1</td>\n",
       "    </tr>\n",
       "    <tr>\n",
       "      <th>3</th>\n",
       "      <td>1</td>\n",
       "      <td>89</td>\n",
       "      <td>66</td>\n",
       "      <td>23</td>\n",
       "      <td>94</td>\n",
       "      <td>28.1</td>\n",
       "      <td>0.167</td>\n",
       "      <td>21</td>\n",
       "      <td>0</td>\n",
       "    </tr>\n",
       "    <tr>\n",
       "      <th>4</th>\n",
       "      <td>0</td>\n",
       "      <td>137</td>\n",
       "      <td>40</td>\n",
       "      <td>35</td>\n",
       "      <td>168</td>\n",
       "      <td>43.1</td>\n",
       "      <td>2.288</td>\n",
       "      <td>33</td>\n",
       "      <td>1</td>\n",
       "    </tr>\n",
       "  </tbody>\n",
       "</table>\n",
       "</div>"
      ],
      "text/plain": [
       "   Pregnancies  Glucose  BloodPressure  SkinThickness  Insulin   BMI  \\\n",
       "0            6      148             72             35        0  33.6   \n",
       "1            1       85             66             29        0  26.6   \n",
       "2            8      183             64              0        0  23.3   \n",
       "3            1       89             66             23       94  28.1   \n",
       "4            0      137             40             35      168  43.1   \n",
       "\n",
       "   DiabetesPedigreeFunction  Age  Outcome  \n",
       "0                     0.627   50        1  \n",
       "1                     0.351   31        0  \n",
       "2                     0.672   32        1  \n",
       "3                     0.167   21        0  \n",
       "4                     2.288   33        1  "
      ]
     },
     "metadata": {},
     "output_type": "display_data"
    },
    {
     "name": "stdout",
     "output_type": "stream",
     "text": [
      "There are 768 observations and 9 features in our training set.\n"
     ]
    }
   ],
   "source": [
    "import pandas as pd\n",
    "\n",
    "# read data\n",
    "df = pd.read_csv('data/diabetes/diabetes.csv')\n",
    "\n",
    "# display sample rows\n",
    "display(df.head())\n",
    "\n",
    "print(f\"There are {df.shape[0]} observations and \" \\\n",
    "      f\"{df.shape[1]} features in our training set.\")"
   ]
  },
  {
   "cell_type": "markdown",
   "id": "b34e8d4d-8698-49f1-baa8-6444788cb5db",
   "metadata": {},
   "source": [
    "## Split up the Predictor and Target Variables\n",
    "\n",
    "For a supervised machine learning algorithm, it's necessary to split up the predictor and target variables. We shall then split each into train and test data."
   ]
  },
  {
   "cell_type": "code",
   "execution_count": 2,
   "id": "159757c8-4dd8-48e0-8b29-770463183268",
   "metadata": {},
   "outputs": [],
   "source": [
    "# Separate predictor and target variables\n",
    "X = df.drop(columns = ['Outcome'])\n",
    "y = df['Outcome']"
   ]
  },
  {
   "cell_type": "code",
   "execution_count": 3,
   "id": "4b640f58-25ae-4bc7-a015-e37db8701c4c",
   "metadata": {},
   "outputs": [],
   "source": [
    "from sklearn.model_selection import train_test_split\n",
    "\n",
    "# split dataset into train and test data\n",
    "X_train, X_test, y_train, y_test = train_test_split(X, y, test_size = .2, stratify = y)"
   ]
  },
  {
   "cell_type": "markdown",
   "id": "7567aedf-c994-40f8-a3e0-44f31d756649",
   "metadata": {},
   "source": [
    "In the above, `stratify = y` ensures that the split of the dataset into training and testing sets maintains the same proportion of class labels as in the original dataset. This is particularly useful when you have an imbalanced dataset, as it helps to ensure that both the training and testing sets are representative of the overall distribution of classes."
   ]
  },
  {
   "cell_type": "markdown",
   "id": "b5d25057-2c8b-447a-84c7-cd5f926439a9",
   "metadata": {},
   "source": [
    "## Building and Training the Model\n",
    "\n",
    "We now call the KNN algorithm."
   ]
  },
  {
   "cell_type": "code",
   "execution_count": 4,
   "id": "4344bd3a-58c8-4a5a-b796-04171f29b5fa",
   "metadata": {},
   "outputs": [
    {
     "data": {
      "text/html": [
       "<style>#sk-container-id-1 {color: black;background-color: white;}#sk-container-id-1 pre{padding: 0;}#sk-container-id-1 div.sk-toggleable {background-color: white;}#sk-container-id-1 label.sk-toggleable__label {cursor: pointer;display: block;width: 100%;margin-bottom: 0;padding: 0.3em;box-sizing: border-box;text-align: center;}#sk-container-id-1 label.sk-toggleable__label-arrow:before {content: \"▸\";float: left;margin-right: 0.25em;color: #696969;}#sk-container-id-1 label.sk-toggleable__label-arrow:hover:before {color: black;}#sk-container-id-1 div.sk-estimator:hover label.sk-toggleable__label-arrow:before {color: black;}#sk-container-id-1 div.sk-toggleable__content {max-height: 0;max-width: 0;overflow: hidden;text-align: left;background-color: #f0f8ff;}#sk-container-id-1 div.sk-toggleable__content pre {margin: 0.2em;color: black;border-radius: 0.25em;background-color: #f0f8ff;}#sk-container-id-1 input.sk-toggleable__control:checked~div.sk-toggleable__content {max-height: 200px;max-width: 100%;overflow: auto;}#sk-container-id-1 input.sk-toggleable__control:checked~label.sk-toggleable__label-arrow:before {content: \"▾\";}#sk-container-id-1 div.sk-estimator input.sk-toggleable__control:checked~label.sk-toggleable__label {background-color: #d4ebff;}#sk-container-id-1 div.sk-label input.sk-toggleable__control:checked~label.sk-toggleable__label {background-color: #d4ebff;}#sk-container-id-1 input.sk-hidden--visually {border: 0;clip: rect(1px 1px 1px 1px);clip: rect(1px, 1px, 1px, 1px);height: 1px;margin: -1px;overflow: hidden;padding: 0;position: absolute;width: 1px;}#sk-container-id-1 div.sk-estimator {font-family: monospace;background-color: #f0f8ff;border: 1px dotted black;border-radius: 0.25em;box-sizing: border-box;margin-bottom: 0.5em;}#sk-container-id-1 div.sk-estimator:hover {background-color: #d4ebff;}#sk-container-id-1 div.sk-parallel-item::after {content: \"\";width: 100%;border-bottom: 1px solid gray;flex-grow: 1;}#sk-container-id-1 div.sk-label:hover label.sk-toggleable__label {background-color: #d4ebff;}#sk-container-id-1 div.sk-serial::before {content: \"\";position: absolute;border-left: 1px solid gray;box-sizing: border-box;top: 0;bottom: 0;left: 50%;z-index: 0;}#sk-container-id-1 div.sk-serial {display: flex;flex-direction: column;align-items: center;background-color: white;padding-right: 0.2em;padding-left: 0.2em;position: relative;}#sk-container-id-1 div.sk-item {position: relative;z-index: 1;}#sk-container-id-1 div.sk-parallel {display: flex;align-items: stretch;justify-content: center;background-color: white;position: relative;}#sk-container-id-1 div.sk-item::before, #sk-container-id-1 div.sk-parallel-item::before {content: \"\";position: absolute;border-left: 1px solid gray;box-sizing: border-box;top: 0;bottom: 0;left: 50%;z-index: -1;}#sk-container-id-1 div.sk-parallel-item {display: flex;flex-direction: column;z-index: 1;position: relative;background-color: white;}#sk-container-id-1 div.sk-parallel-item:first-child::after {align-self: flex-end;width: 50%;}#sk-container-id-1 div.sk-parallel-item:last-child::after {align-self: flex-start;width: 50%;}#sk-container-id-1 div.sk-parallel-item:only-child::after {width: 0;}#sk-container-id-1 div.sk-dashed-wrapped {border: 1px dashed gray;margin: 0 0.4em 0.5em 0.4em;box-sizing: border-box;padding-bottom: 0.4em;background-color: white;}#sk-container-id-1 div.sk-label label {font-family: monospace;font-weight: bold;display: inline-block;line-height: 1.2em;}#sk-container-id-1 div.sk-label-container {text-align: center;}#sk-container-id-1 div.sk-container {/* jupyter's `normalize.less` sets `[hidden] { display: none; }` but bootstrap.min.css set `[hidden] { display: none !important; }` so we also need the `!important` here to be able to override the default hidden behavior on the sphinx rendered scikit-learn.org. See: https://github.com/scikit-learn/scikit-learn/issues/21755 */display: inline-block !important;position: relative;}#sk-container-id-1 div.sk-text-repr-fallback {display: none;}</style><div id=\"sk-container-id-1\" class=\"sk-top-container\"><div class=\"sk-text-repr-fallback\"><pre>KNeighborsClassifier(n_neighbors=3)</pre><b>In a Jupyter environment, please rerun this cell to show the HTML representation or trust the notebook. <br />On GitHub, the HTML representation is unable to render, please try loading this page with nbviewer.org.</b></div><div class=\"sk-container\" hidden><div class=\"sk-item\"><div class=\"sk-estimator sk-toggleable\"><input class=\"sk-toggleable__control sk-hidden--visually\" id=\"sk-estimator-id-1\" type=\"checkbox\" checked><label for=\"sk-estimator-id-1\" class=\"sk-toggleable__label sk-toggleable__label-arrow\">KNeighborsClassifier</label><div class=\"sk-toggleable__content\"><pre>KNeighborsClassifier(n_neighbors=3)</pre></div></div></div></div></div>"
      ],
      "text/plain": [
       "KNeighborsClassifier(n_neighbors=3)"
      ]
     },
     "execution_count": 4,
     "metadata": {},
     "output_type": "execute_result"
    }
   ],
   "source": [
    "from sklearn.neighbors import KNeighborsClassifier\n",
    "\n",
    "# Create KNN Classifier\n",
    "n_neighbors = 3\n",
    "knn = KNeighborsClassifier(n_neighbors = n_neighbors)\n",
    "\n",
    "# Fit the classifier to the data\n",
    "knn.fit(X_train, y_train)"
   ]
  },
  {
   "cell_type": "markdown",
   "id": "1280d696-e7ef-44a8-a5f8-270a879f7b06",
   "metadata": {},
   "source": [
    "## Testing the model\n",
    "\n",
    "We shall now run the testing dataset through our model."
   ]
  },
  {
   "cell_type": "code",
   "execution_count": 5,
   "id": "c24b8c48-1768-4db5-adaf-73576c73feab",
   "metadata": {},
   "outputs": [
    {
     "name": "stdout",
     "output_type": "stream",
     "text": [
      "[1 0 0 0 1]\n",
      "The KNN with K = 3 has an accuracy of 69.48%\n"
     ]
    }
   ],
   "source": [
    "# show first five model predictions on the test data\n",
    "print(knn.predict(X_test)[0:5])\n",
    "\n",
    "# check accuracy of our moel on the test data, i.e. what percentage of the model's predictions are correct\n",
    "print(f\"The KNN with K = {n_neighbors} has an accuracy of {100*knn.score(X_test, y_test):.2f}%\")"
   ]
  },
  {
   "cell_type": "markdown",
   "id": "e5307d27-c74a-43ec-a741-1135f727456e",
   "metadata": {},
   "source": [
    "## Kfold Cross Validation\n",
    "\n",
    "We now employ K-fold cross validation to get a more accurate accuracy."
   ]
  },
  {
   "cell_type": "code",
   "execution_count": 6,
   "id": "26d05cfe-a732-4dee-b0f4-0c9e346a2574",
   "metadata": {},
   "outputs": [
    {
     "name": "stdout",
     "output_type": "stream",
     "text": [
      "[0.68181818 0.69480519 0.75324675 0.75163399 0.68627451]\n",
      "The Cross Validation score of our KNN model with K = 3 is 71.36%\n"
     ]
    }
   ],
   "source": [
    "from sklearn.model_selection import cross_val_score\n",
    "\n",
    "# create a new KNN model\n",
    "knn_cv = KNeighborsClassifier(n_neighbors = n_neighbors)\n",
    "\n",
    "# train model with cv of 10\n",
    "cv_scores = cross_val_score(knn_cv, X, y, cv=5)\n",
    "\n",
    "# print each cv score and take the average\n",
    "print(cv_scores)\n",
    "print(f\"The Cross Validation score of our KNN model with K = {n_neighbors} is {100*cv_scores.mean():.2f}%\")"
   ]
  },
  {
   "cell_type": "markdown",
   "id": "32e8f090-69b0-423b-a6af-1a38d4fead84",
   "metadata": {},
   "source": [
    "## Hypertuning model parameters using GridSearchCV\n",
    "\n",
    "Our choice of the number of neighbors to consider, `n_neighbors = 3`, was arbitrary. We want to try out several other values so that we may be able to get a better result. To do that, we use `GridSearchCV`.\n",
    "\n",
    "In general, `GridSearchCV` is used for finding the best hyperparmeters. It works by training our model a multiple times on a range of parameters that we give to `GridSearchCV`, and calculating the cross validation score for each combination of hyperparameters, so that we can figure out the optiomal hyperparameters value to get the best accuracy results.\n",
    "\n",
    "In our case, we will test the values of `n_neighbors` from 1 to 24."
   ]
  },
  {
   "cell_type": "code",
   "execution_count": 7,
   "id": "a74290ab-f8ad-4719-ac93-bc452008a34b",
   "metadata": {},
   "outputs": [
    {
     "data": {
      "text/html": [
       "<style>#sk-container-id-2 {color: black;background-color: white;}#sk-container-id-2 pre{padding: 0;}#sk-container-id-2 div.sk-toggleable {background-color: white;}#sk-container-id-2 label.sk-toggleable__label {cursor: pointer;display: block;width: 100%;margin-bottom: 0;padding: 0.3em;box-sizing: border-box;text-align: center;}#sk-container-id-2 label.sk-toggleable__label-arrow:before {content: \"▸\";float: left;margin-right: 0.25em;color: #696969;}#sk-container-id-2 label.sk-toggleable__label-arrow:hover:before {color: black;}#sk-container-id-2 div.sk-estimator:hover label.sk-toggleable__label-arrow:before {color: black;}#sk-container-id-2 div.sk-toggleable__content {max-height: 0;max-width: 0;overflow: hidden;text-align: left;background-color: #f0f8ff;}#sk-container-id-2 div.sk-toggleable__content pre {margin: 0.2em;color: black;border-radius: 0.25em;background-color: #f0f8ff;}#sk-container-id-2 input.sk-toggleable__control:checked~div.sk-toggleable__content {max-height: 200px;max-width: 100%;overflow: auto;}#sk-container-id-2 input.sk-toggleable__control:checked~label.sk-toggleable__label-arrow:before {content: \"▾\";}#sk-container-id-2 div.sk-estimator input.sk-toggleable__control:checked~label.sk-toggleable__label {background-color: #d4ebff;}#sk-container-id-2 div.sk-label input.sk-toggleable__control:checked~label.sk-toggleable__label {background-color: #d4ebff;}#sk-container-id-2 input.sk-hidden--visually {border: 0;clip: rect(1px 1px 1px 1px);clip: rect(1px, 1px, 1px, 1px);height: 1px;margin: -1px;overflow: hidden;padding: 0;position: absolute;width: 1px;}#sk-container-id-2 div.sk-estimator {font-family: monospace;background-color: #f0f8ff;border: 1px dotted black;border-radius: 0.25em;box-sizing: border-box;margin-bottom: 0.5em;}#sk-container-id-2 div.sk-estimator:hover {background-color: #d4ebff;}#sk-container-id-2 div.sk-parallel-item::after {content: \"\";width: 100%;border-bottom: 1px solid gray;flex-grow: 1;}#sk-container-id-2 div.sk-label:hover label.sk-toggleable__label {background-color: #d4ebff;}#sk-container-id-2 div.sk-serial::before {content: \"\";position: absolute;border-left: 1px solid gray;box-sizing: border-box;top: 0;bottom: 0;left: 50%;z-index: 0;}#sk-container-id-2 div.sk-serial {display: flex;flex-direction: column;align-items: center;background-color: white;padding-right: 0.2em;padding-left: 0.2em;position: relative;}#sk-container-id-2 div.sk-item {position: relative;z-index: 1;}#sk-container-id-2 div.sk-parallel {display: flex;align-items: stretch;justify-content: center;background-color: white;position: relative;}#sk-container-id-2 div.sk-item::before, #sk-container-id-2 div.sk-parallel-item::before {content: \"\";position: absolute;border-left: 1px solid gray;box-sizing: border-box;top: 0;bottom: 0;left: 50%;z-index: -1;}#sk-container-id-2 div.sk-parallel-item {display: flex;flex-direction: column;z-index: 1;position: relative;background-color: white;}#sk-container-id-2 div.sk-parallel-item:first-child::after {align-self: flex-end;width: 50%;}#sk-container-id-2 div.sk-parallel-item:last-child::after {align-self: flex-start;width: 50%;}#sk-container-id-2 div.sk-parallel-item:only-child::after {width: 0;}#sk-container-id-2 div.sk-dashed-wrapped {border: 1px dashed gray;margin: 0 0.4em 0.5em 0.4em;box-sizing: border-box;padding-bottom: 0.4em;background-color: white;}#sk-container-id-2 div.sk-label label {font-family: monospace;font-weight: bold;display: inline-block;line-height: 1.2em;}#sk-container-id-2 div.sk-label-container {text-align: center;}#sk-container-id-2 div.sk-container {/* jupyter's `normalize.less` sets `[hidden] { display: none; }` but bootstrap.min.css set `[hidden] { display: none !important; }` so we also need the `!important` here to be able to override the default hidden behavior on the sphinx rendered scikit-learn.org. See: https://github.com/scikit-learn/scikit-learn/issues/21755 */display: inline-block !important;position: relative;}#sk-container-id-2 div.sk-text-repr-fallback {display: none;}</style><div id=\"sk-container-id-2\" class=\"sk-top-container\"><div class=\"sk-text-repr-fallback\"><pre>GridSearchCV(cv=5, estimator=KNeighborsClassifier(),\n",
       "             param_grid={&#x27;n_neighbors&#x27;: array([ 1,  2,  3,  4,  5,  6,  7,  8,  9, 10, 11, 12, 13, 14, 15, 16, 17,\n",
       "       18, 19, 20, 21, 22, 23, 24])})</pre><b>In a Jupyter environment, please rerun this cell to show the HTML representation or trust the notebook. <br />On GitHub, the HTML representation is unable to render, please try loading this page with nbviewer.org.</b></div><div class=\"sk-container\" hidden><div class=\"sk-item sk-dashed-wrapped\"><div class=\"sk-label-container\"><div class=\"sk-label sk-toggleable\"><input class=\"sk-toggleable__control sk-hidden--visually\" id=\"sk-estimator-id-2\" type=\"checkbox\" ><label for=\"sk-estimator-id-2\" class=\"sk-toggleable__label sk-toggleable__label-arrow\">GridSearchCV</label><div class=\"sk-toggleable__content\"><pre>GridSearchCV(cv=5, estimator=KNeighborsClassifier(),\n",
       "             param_grid={&#x27;n_neighbors&#x27;: array([ 1,  2,  3,  4,  5,  6,  7,  8,  9, 10, 11, 12, 13, 14, 15, 16, 17,\n",
       "       18, 19, 20, 21, 22, 23, 24])})</pre></div></div></div><div class=\"sk-parallel\"><div class=\"sk-parallel-item\"><div class=\"sk-item\"><div class=\"sk-label-container\"><div class=\"sk-label sk-toggleable\"><input class=\"sk-toggleable__control sk-hidden--visually\" id=\"sk-estimator-id-3\" type=\"checkbox\" ><label for=\"sk-estimator-id-3\" class=\"sk-toggleable__label sk-toggleable__label-arrow\">estimator: KNeighborsClassifier</label><div class=\"sk-toggleable__content\"><pre>KNeighborsClassifier()</pre></div></div></div><div class=\"sk-serial\"><div class=\"sk-item\"><div class=\"sk-estimator sk-toggleable\"><input class=\"sk-toggleable__control sk-hidden--visually\" id=\"sk-estimator-id-4\" type=\"checkbox\" ><label for=\"sk-estimator-id-4\" class=\"sk-toggleable__label sk-toggleable__label-arrow\">KNeighborsClassifier</label><div class=\"sk-toggleable__content\"><pre>KNeighborsClassifier()</pre></div></div></div></div></div></div></div></div></div></div>"
      ],
      "text/plain": [
       "GridSearchCV(cv=5, estimator=KNeighborsClassifier(),\n",
       "             param_grid={'n_neighbors': array([ 1,  2,  3,  4,  5,  6,  7,  8,  9, 10, 11, 12, 13, 14, 15, 16, 17,\n",
       "       18, 19, 20, 21, 22, 23, 24])})"
      ]
     },
     "execution_count": 7,
     "metadata": {},
     "output_type": "execute_result"
    }
   ],
   "source": [
    "from sklearn.model_selection import GridSearchCV\n",
    "import numpy as np\n",
    "\n",
    "# create a new knn model\n",
    "knn2 = KNeighborsClassifier()\n",
    "\n",
    "# Create a dictionary of all values we want to test for n_neighbors\n",
    "param_grid = {'n_neighbors': np.arange(1,25)}\n",
    "\n",
    "# use gridsearch to test all values for n_neighbors\n",
    "knn_gridsearch = GridSearchCV(knn2, param_grid, cv=5)\n",
    "\n",
    "# fit model to data\n",
    "knn_gridsearch.fit(X,y)"
   ]
  },
  {
   "cell_type": "markdown",
   "id": "1875b5ba-f4e0-4e7f-88e2-ec3bf5b230f6",
   "metadata": {},
   "source": [
    "We can now check which of our values of `n_neighbors` performed the best. We will call `best_params_` for our model. We then get the best accuracy."
   ]
  },
  {
   "cell_type": "code",
   "execution_count": 8,
   "id": "997e1e15-d918-4acd-a9f1-261fa7511445",
   "metadata": {},
   "outputs": [
    {
     "name": "stdout",
     "output_type": "stream",
     "text": [
      "The best choice of the number of neighbors to consider is 14, which gives us the accuracy of 75.79%.\n"
     ]
    }
   ],
   "source": [
    "# check the best performing n_neighbors value\n",
    "print(\"The best choice of the number of neighbors to consider is \"\\\n",
    "        f\"{knn_gridsearch.best_params_['n_neighbors']}, \"\\\n",
    "      f\"which gives us the accuracy of {100*knn_gridsearch.best_score_:.2f}%.\")"
   ]
  },
  {
   "cell_type": "markdown",
   "id": "99710581-e5cb-4596-82a5-d2d19decdba5",
   "metadata": {},
   "source": [
    "Thank you for reading!"
   ]
  }
 ],
 "metadata": {
  "kernelspec": {
   "display_name": "Python 3 (ipykernel)",
   "language": "python",
   "name": "python3"
  },
  "language_info": {
   "codemirror_mode": {
    "name": "ipython",
    "version": 3
   },
   "file_extension": ".py",
   "mimetype": "text/x-python",
   "name": "python",
   "nbconvert_exporter": "python",
   "pygments_lexer": "ipython3",
   "version": "3.11.7"
  }
 },
 "nbformat": 4,
 "nbformat_minor": 5
}
