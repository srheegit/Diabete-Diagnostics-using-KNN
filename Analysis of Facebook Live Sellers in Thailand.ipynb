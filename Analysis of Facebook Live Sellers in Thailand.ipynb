{
 "cells": [
  {
   "cell_type": "markdown",
   "id": "e04b05f3-feb3-4a44-8fba-5d528cfa1c1d",
   "metadata": {},
   "source": [
    "# Categorizing Live Sellers in Thailand through KMeans Algorithm\n",
    "\n",
    "Author: Sahngyoon Rhee"
   ]
  },
  {
   "cell_type": "markdown",
   "id": "065eec47-5a06-40c9-9030-718bd893b64a",
   "metadata": {},
   "source": [
    "## How KMeans Algorithm Works\n",
    "\n",
    "The KMean clustering is one of the most popular clustering machine learning algorithm, along with DBSCAN. The idea is as follows:\n",
    "\n",
    "(1) We pick an appropriate number $k$, the number of clusters\n",
    "(2) We randomly pick $k$ points in the feature space. These are initial representatives of each cluster.\n",
    "(3) For each datapoint $\\vec{x}$ in the dataset, calculate the distances between $\\vec{x}$ and each cluster reresentative. The cluster of  $\\vec{x}$ will be the cluster whose representative is the closest to $\\vec{x}$.\n",
    "(4) After assigning cluster labels to all datapoints, For each cluster $i$, reassign the representative of each cluster as the arithemetic mean of each datapoint in that cluster.\n",
    "(5) Repeat steps (3) - (4) until we have the sum of the distances minimized or until we reach some maximum number of iterations.\n",
    "\n",
    "The algorithm is guaranteed to converge to a result, albeit a local optimum. To reach a global optimum or at least reach a better result, we may run the algorithm multiple times."
   ]
  },
  {
   "cell_type": "markdown",
   "id": "2f1c4592-f493-4c17-84c1-1237ade5ebd9",
   "metadata": {},
   "source": [
    "![K-Means intuition](https://th.bing.com/th/id/R.db39eeaf3a5b79e68f882fb7705072fb?rik=wy2ZfmrbUFmaAA&pid=ImgRaw&r=0)"
   ]
  },
  {
   "cell_type": "markdown",
   "id": "5aec298d-76e5-4f1d-8688-64916129531e",
   "metadata": {},
   "source": [
    "The value $k$ must be chosen before we run the algorithm, and the appropriate number $k$, i.e. the appropriate number of clusters, is determined by one of three methods:\n",
    "\n",
    "1. The most obvious choice, if available. For example, when we have the MNIST dataset consisting of 10 digists, from 0 to 0, the most obvious choice of clustering would be $k = 10$.\n",
    "2. The **elbow method** which we desdcribe below\n",
    "3. Using the **Silhouette score**, which is a value between $-1$ and $1$ that tells us \"how well\" similar datapoints are clustered in a same cluster and dissimilar datapoints are clustered in different clusters. The closer the silhouette score is to $1$, the \"better\" the formed clusters are."
   ]
  },
  {
   "cell_type": "markdown",
   "id": "0645cfbe-dfc0-4c96-be9a-fdf06f93890f",
   "metadata": {},
   "source": [
    "## The Dataset\n",
    "\n",
    "In this demonstration, we shall implement the KMeanms clustering to find intrinsic groups within the dataset that has rows of information about facebook live sellers in Thailand.\n",
    "\n",
    "The dataset has been obtain from [UCI Machine Learning Repository](https://archive.ics.uci.edu/ml/datasets/Facebook+Live+Sellers+in+Thailand), and the dataset has 16 variables (including 4 null columns; see below), and consists of information gained from facebook apges of ten Thai cosmetics and fashion retail sellers. Various engagement metrics, such as the number of comments, shares, and reactions, are part of the feature variables, and all posts are of different nature, being either video, photos, statuses, or links."
   ]
  },
  {
   "cell_type": "code",
   "execution_count": 1,
   "id": "d9533983-b0e3-437b-8525-77a9ef502da2",
   "metadata": {},
   "outputs": [],
   "source": [
    "# import libraries\n",
    "import numpy as np\n",
    "import pandas as pd\n",
    "import matplotlib.pyplot as plt\n",
    "import seaborn as sns\n",
    "from sklearn.preprocessing import LabelEncoder, MinMaxScaler\n",
    "from sklearn.cluster import KMeans\n",
    "from sklearn.metrics import silhouette_score\n",
    "\n",
    "# display matplotlib plots are display inline, directly below code cells \n",
    "%matplotlib inline\n",
    "\n",
    "# ignore warnings\n",
    "import warnings\n",
    "warnings.filterwarnings('ignore')"
   ]
  },
  {
   "cell_type": "markdown",
   "id": "c9298e8f-c95f-4075-a5e7-5627acec699c",
   "metadata": {},
   "source": [
    "## Dataset Exploration\n",
    "\n",
    "We now import the dataset and do exploratory data analysis."
   ]
  },
  {
   "cell_type": "code",
   "execution_count": 2,
   "id": "62008b0e-432d-4361-b61c-214923f13ad7",
   "metadata": {},
   "outputs": [],
   "source": [
    "df = pd.read_csv('./data/facebook-live-sellers/Live.csv')"
   ]
  },
  {
   "cell_type": "markdown",
   "id": "a94d1a86-f4ef-4c23-a3a8-1ecd9450b10d",
   "metadata": {},
   "source": [
    "### Check the shape of the dataset"
   ]
  },
  {
   "cell_type": "code",
   "execution_count": 3,
   "id": "9daba67a-cea4-48e7-b6e7-4c6733ab0511",
   "metadata": {},
   "outputs": [
    {
     "name": "stdout",
     "output_type": "stream",
     "text": [
      "The dataframe has 7050 rows and 16 features.\n"
     ]
    }
   ],
   "source": [
    "print(f'The dataframe has {df.shape[0]} rows and {df.shape[1]} features.')"
   ]
  },
  {
   "cell_type": "markdown",
   "id": "f3087559-8c60-4819-b97e-6bed6366aafb",
   "metadata": {},
   "source": [
    "### Preview of the dataset"
   ]
  },
  {
   "cell_type": "code",
   "execution_count": 4,
   "id": "e2c9223a-05b4-45cc-b858-20ab0c425226",
   "metadata": {},
   "outputs": [
    {
     "data": {
      "text/html": [
       "<div>\n",
       "<style scoped>\n",
       "    .dataframe tbody tr th:only-of-type {\n",
       "        vertical-align: middle;\n",
       "    }\n",
       "\n",
       "    .dataframe tbody tr th {\n",
       "        vertical-align: top;\n",
       "    }\n",
       "\n",
       "    .dataframe thead th {\n",
       "        text-align: right;\n",
       "    }\n",
       "</style>\n",
       "<table border=\"1\" class=\"dataframe\">\n",
       "  <thead>\n",
       "    <tr style=\"text-align: right;\">\n",
       "      <th></th>\n",
       "      <th>status_id</th>\n",
       "      <th>status_type</th>\n",
       "      <th>status_published</th>\n",
       "      <th>num_reactions</th>\n",
       "      <th>num_comments</th>\n",
       "      <th>num_shares</th>\n",
       "      <th>num_likes</th>\n",
       "      <th>num_loves</th>\n",
       "      <th>num_wows</th>\n",
       "      <th>num_hahas</th>\n",
       "      <th>num_sads</th>\n",
       "      <th>num_angrys</th>\n",
       "      <th>Column1</th>\n",
       "      <th>Column2</th>\n",
       "      <th>Column3</th>\n",
       "      <th>Column4</th>\n",
       "    </tr>\n",
       "  </thead>\n",
       "  <tbody>\n",
       "    <tr>\n",
       "      <th>0</th>\n",
       "      <td>246675545449582_1649696485147474</td>\n",
       "      <td>video</td>\n",
       "      <td>4/22/2018 6:00</td>\n",
       "      <td>529</td>\n",
       "      <td>512</td>\n",
       "      <td>262</td>\n",
       "      <td>432</td>\n",
       "      <td>92</td>\n",
       "      <td>3</td>\n",
       "      <td>1</td>\n",
       "      <td>1</td>\n",
       "      <td>0</td>\n",
       "      <td>NaN</td>\n",
       "      <td>NaN</td>\n",
       "      <td>NaN</td>\n",
       "      <td>NaN</td>\n",
       "    </tr>\n",
       "    <tr>\n",
       "      <th>1</th>\n",
       "      <td>246675545449582_1649426988507757</td>\n",
       "      <td>photo</td>\n",
       "      <td>4/21/2018 22:45</td>\n",
       "      <td>150</td>\n",
       "      <td>0</td>\n",
       "      <td>0</td>\n",
       "      <td>150</td>\n",
       "      <td>0</td>\n",
       "      <td>0</td>\n",
       "      <td>0</td>\n",
       "      <td>0</td>\n",
       "      <td>0</td>\n",
       "      <td>NaN</td>\n",
       "      <td>NaN</td>\n",
       "      <td>NaN</td>\n",
       "      <td>NaN</td>\n",
       "    </tr>\n",
       "    <tr>\n",
       "      <th>2</th>\n",
       "      <td>246675545449582_1648730588577397</td>\n",
       "      <td>video</td>\n",
       "      <td>4/21/2018 6:17</td>\n",
       "      <td>227</td>\n",
       "      <td>236</td>\n",
       "      <td>57</td>\n",
       "      <td>204</td>\n",
       "      <td>21</td>\n",
       "      <td>1</td>\n",
       "      <td>1</td>\n",
       "      <td>0</td>\n",
       "      <td>0</td>\n",
       "      <td>NaN</td>\n",
       "      <td>NaN</td>\n",
       "      <td>NaN</td>\n",
       "      <td>NaN</td>\n",
       "    </tr>\n",
       "    <tr>\n",
       "      <th>3</th>\n",
       "      <td>246675545449582_1648576705259452</td>\n",
       "      <td>photo</td>\n",
       "      <td>4/21/2018 2:29</td>\n",
       "      <td>111</td>\n",
       "      <td>0</td>\n",
       "      <td>0</td>\n",
       "      <td>111</td>\n",
       "      <td>0</td>\n",
       "      <td>0</td>\n",
       "      <td>0</td>\n",
       "      <td>0</td>\n",
       "      <td>0</td>\n",
       "      <td>NaN</td>\n",
       "      <td>NaN</td>\n",
       "      <td>NaN</td>\n",
       "      <td>NaN</td>\n",
       "    </tr>\n",
       "    <tr>\n",
       "      <th>4</th>\n",
       "      <td>246675545449582_1645700502213739</td>\n",
       "      <td>photo</td>\n",
       "      <td>4/18/2018 3:22</td>\n",
       "      <td>213</td>\n",
       "      <td>0</td>\n",
       "      <td>0</td>\n",
       "      <td>204</td>\n",
       "      <td>9</td>\n",
       "      <td>0</td>\n",
       "      <td>0</td>\n",
       "      <td>0</td>\n",
       "      <td>0</td>\n",
       "      <td>NaN</td>\n",
       "      <td>NaN</td>\n",
       "      <td>NaN</td>\n",
       "      <td>NaN</td>\n",
       "    </tr>\n",
       "  </tbody>\n",
       "</table>\n",
       "</div>"
      ],
      "text/plain": [
       "                          status_id status_type status_published  \\\n",
       "0  246675545449582_1649696485147474       video   4/22/2018 6:00   \n",
       "1  246675545449582_1649426988507757       photo  4/21/2018 22:45   \n",
       "2  246675545449582_1648730588577397       video   4/21/2018 6:17   \n",
       "3  246675545449582_1648576705259452       photo   4/21/2018 2:29   \n",
       "4  246675545449582_1645700502213739       photo   4/18/2018 3:22   \n",
       "\n",
       "   num_reactions  num_comments  num_shares  num_likes  num_loves  num_wows  \\\n",
       "0            529           512         262        432         92         3   \n",
       "1            150             0           0        150          0         0   \n",
       "2            227           236          57        204         21         1   \n",
       "3            111             0           0        111          0         0   \n",
       "4            213             0           0        204          9         0   \n",
       "\n",
       "   num_hahas  num_sads  num_angrys  Column1  Column2  Column3  Column4  \n",
       "0          1         1           0      NaN      NaN      NaN      NaN  \n",
       "1          0         0           0      NaN      NaN      NaN      NaN  \n",
       "2          1         0           0      NaN      NaN      NaN      NaN  \n",
       "3          0         0           0      NaN      NaN      NaN      NaN  \n",
       "4          0         0           0      NaN      NaN      NaN      NaN  "
      ]
     },
     "execution_count": 4,
     "metadata": {},
     "output_type": "execute_result"
    }
   ],
   "source": [
    "df.head()"
   ]
  },
  {
   "cell_type": "markdown",
   "id": "92d8b6b1-f96e-4027-9a30-73c57813deec",
   "metadata": {},
   "source": [
    "It seems like the last four columns are all `NaN` values. We are going to confirm that this is really the case:"
   ]
  },
  {
   "cell_type": "code",
   "execution_count": 5,
   "id": "4a4b427d-aa82-426f-b5b1-6b8f634a3327",
   "metadata": {},
   "outputs": [
    {
     "name": "stdout",
     "output_type": "stream",
     "text": [
      "<class 'pandas.core.frame.DataFrame'>\n",
      "RangeIndex: 7050 entries, 0 to 7049\n",
      "Data columns (total 16 columns):\n",
      " #   Column            Non-Null Count  Dtype  \n",
      "---  ------            --------------  -----  \n",
      " 0   status_id         7050 non-null   object \n",
      " 1   status_type       7050 non-null   object \n",
      " 2   status_published  7050 non-null   object \n",
      " 3   num_reactions     7050 non-null   int64  \n",
      " 4   num_comments      7050 non-null   int64  \n",
      " 5   num_shares        7050 non-null   int64  \n",
      " 6   num_likes         7050 non-null   int64  \n",
      " 7   num_loves         7050 non-null   int64  \n",
      " 8   num_wows          7050 non-null   int64  \n",
      " 9   num_hahas         7050 non-null   int64  \n",
      " 10  num_sads          7050 non-null   int64  \n",
      " 11  num_angrys        7050 non-null   int64  \n",
      " 12  Column1           0 non-null      float64\n",
      " 13  Column2           0 non-null      float64\n",
      " 14  Column3           0 non-null      float64\n",
      " 15  Column4           0 non-null      float64\n",
      "dtypes: float64(4), int64(9), object(3)\n",
      "memory usage: 881.4+ KB\n"
     ]
    }
   ],
   "source": [
    "df.info()"
   ]
  },
  {
   "cell_type": "markdown",
   "id": "ac576dcb-9022-48e3-a0b1-aeacd091820e",
   "metadata": {},
   "source": [
    "Indeed it is. We can thus drop th last four columns:"
   ]
  },
  {
   "cell_type": "code",
   "execution_count": 6,
   "id": "65cfa126-d7cd-470b-81af-32644bc7a9e9",
   "metadata": {},
   "outputs": [
    {
     "data": {
      "text/html": [
       "<div>\n",
       "<style scoped>\n",
       "    .dataframe tbody tr th:only-of-type {\n",
       "        vertical-align: middle;\n",
       "    }\n",
       "\n",
       "    .dataframe tbody tr th {\n",
       "        vertical-align: top;\n",
       "    }\n",
       "\n",
       "    .dataframe thead th {\n",
       "        text-align: right;\n",
       "    }\n",
       "</style>\n",
       "<table border=\"1\" class=\"dataframe\">\n",
       "  <thead>\n",
       "    <tr style=\"text-align: right;\">\n",
       "      <th></th>\n",
       "      <th>status_id</th>\n",
       "      <th>status_type</th>\n",
       "      <th>status_published</th>\n",
       "      <th>num_reactions</th>\n",
       "      <th>num_comments</th>\n",
       "      <th>num_shares</th>\n",
       "      <th>num_likes</th>\n",
       "      <th>num_loves</th>\n",
       "      <th>num_wows</th>\n",
       "      <th>num_hahas</th>\n",
       "      <th>num_sads</th>\n",
       "      <th>num_angrys</th>\n",
       "    </tr>\n",
       "  </thead>\n",
       "  <tbody>\n",
       "    <tr>\n",
       "      <th>0</th>\n",
       "      <td>246675545449582_1649696485147474</td>\n",
       "      <td>video</td>\n",
       "      <td>4/22/2018 6:00</td>\n",
       "      <td>529</td>\n",
       "      <td>512</td>\n",
       "      <td>262</td>\n",
       "      <td>432</td>\n",
       "      <td>92</td>\n",
       "      <td>3</td>\n",
       "      <td>1</td>\n",
       "      <td>1</td>\n",
       "      <td>0</td>\n",
       "    </tr>\n",
       "    <tr>\n",
       "      <th>1</th>\n",
       "      <td>246675545449582_1649426988507757</td>\n",
       "      <td>photo</td>\n",
       "      <td>4/21/2018 22:45</td>\n",
       "      <td>150</td>\n",
       "      <td>0</td>\n",
       "      <td>0</td>\n",
       "      <td>150</td>\n",
       "      <td>0</td>\n",
       "      <td>0</td>\n",
       "      <td>0</td>\n",
       "      <td>0</td>\n",
       "      <td>0</td>\n",
       "    </tr>\n",
       "    <tr>\n",
       "      <th>2</th>\n",
       "      <td>246675545449582_1648730588577397</td>\n",
       "      <td>video</td>\n",
       "      <td>4/21/2018 6:17</td>\n",
       "      <td>227</td>\n",
       "      <td>236</td>\n",
       "      <td>57</td>\n",
       "      <td>204</td>\n",
       "      <td>21</td>\n",
       "      <td>1</td>\n",
       "      <td>1</td>\n",
       "      <td>0</td>\n",
       "      <td>0</td>\n",
       "    </tr>\n",
       "    <tr>\n",
       "      <th>3</th>\n",
       "      <td>246675545449582_1648576705259452</td>\n",
       "      <td>photo</td>\n",
       "      <td>4/21/2018 2:29</td>\n",
       "      <td>111</td>\n",
       "      <td>0</td>\n",
       "      <td>0</td>\n",
       "      <td>111</td>\n",
       "      <td>0</td>\n",
       "      <td>0</td>\n",
       "      <td>0</td>\n",
       "      <td>0</td>\n",
       "      <td>0</td>\n",
       "    </tr>\n",
       "    <tr>\n",
       "      <th>4</th>\n",
       "      <td>246675545449582_1645700502213739</td>\n",
       "      <td>photo</td>\n",
       "      <td>4/18/2018 3:22</td>\n",
       "      <td>213</td>\n",
       "      <td>0</td>\n",
       "      <td>0</td>\n",
       "      <td>204</td>\n",
       "      <td>9</td>\n",
       "      <td>0</td>\n",
       "      <td>0</td>\n",
       "      <td>0</td>\n",
       "      <td>0</td>\n",
       "    </tr>\n",
       "  </tbody>\n",
       "</table>\n",
       "</div>"
      ],
      "text/plain": [
       "                          status_id status_type status_published  \\\n",
       "0  246675545449582_1649696485147474       video   4/22/2018 6:00   \n",
       "1  246675545449582_1649426988507757       photo  4/21/2018 22:45   \n",
       "2  246675545449582_1648730588577397       video   4/21/2018 6:17   \n",
       "3  246675545449582_1648576705259452       photo   4/21/2018 2:29   \n",
       "4  246675545449582_1645700502213739       photo   4/18/2018 3:22   \n",
       "\n",
       "   num_reactions  num_comments  num_shares  num_likes  num_loves  num_wows  \\\n",
       "0            529           512         262        432         92         3   \n",
       "1            150             0           0        150          0         0   \n",
       "2            227           236          57        204         21         1   \n",
       "3            111             0           0        111          0         0   \n",
       "4            213             0           0        204          9         0   \n",
       "\n",
       "   num_hahas  num_sads  num_angrys  \n",
       "0          1         1           0  \n",
       "1          0         0           0  \n",
       "2          1         0           0  \n",
       "3          0         0           0  \n",
       "4          0         0           0  "
      ]
     },
     "execution_count": 6,
     "metadata": {},
     "output_type": "execute_result"
    }
   ],
   "source": [
    "df = df.iloc[:,:-4]\n",
    "# we can also do df.drop(columns = ['Column1', 'Column2', 'Column3', 'Column4'], inpalce = True)\n",
    "df.head()"
   ]
  },
  {
   "cell_type": "code",
   "execution_count": 7,
   "id": "68242e6e-0896-46e9-8a91-38fb4dc05512",
   "metadata": {},
   "outputs": [
    {
     "name": "stdout",
     "output_type": "stream",
     "text": [
      "status_id           0\n",
      "status_type         0\n",
      "status_published    0\n",
      "num_reactions       0\n",
      "num_comments        0\n",
      "num_shares          0\n",
      "num_likes           0\n",
      "num_loves           0\n",
      "num_wows            0\n",
      "num_hahas           0\n",
      "num_sads            0\n",
      "num_angrys          0\n",
      "dtype: int64\n"
     ]
    }
   ],
   "source": [
    "# double check that we don't have any null values\n",
    "print(df.isnull().sum())"
   ]
  },
  {
   "cell_type": "markdown",
   "id": "0551eef9-ba82-49f9-90c0-95d2ee98699c",
   "metadata": {},
   "source": [
    "### Statistical summary of numerical variables"
   ]
  },
  {
   "cell_type": "code",
   "execution_count": 8,
   "id": "994d7e94-deab-43b5-b251-e93cf9a0c4dd",
   "metadata": {},
   "outputs": [
    {
     "data": {
      "text/html": [
       "<div>\n",
       "<style scoped>\n",
       "    .dataframe tbody tr th:only-of-type {\n",
       "        vertical-align: middle;\n",
       "    }\n",
       "\n",
       "    .dataframe tbody tr th {\n",
       "        vertical-align: top;\n",
       "    }\n",
       "\n",
       "    .dataframe thead th {\n",
       "        text-align: right;\n",
       "    }\n",
       "</style>\n",
       "<table border=\"1\" class=\"dataframe\">\n",
       "  <thead>\n",
       "    <tr style=\"text-align: right;\">\n",
       "      <th></th>\n",
       "      <th>num_reactions</th>\n",
       "      <th>num_comments</th>\n",
       "      <th>num_shares</th>\n",
       "      <th>num_likes</th>\n",
       "      <th>num_loves</th>\n",
       "      <th>num_wows</th>\n",
       "      <th>num_hahas</th>\n",
       "      <th>num_sads</th>\n",
       "      <th>num_angrys</th>\n",
       "    </tr>\n",
       "  </thead>\n",
       "  <tbody>\n",
       "    <tr>\n",
       "      <th>count</th>\n",
       "      <td>7050.000000</td>\n",
       "      <td>7050.000000</td>\n",
       "      <td>7050.000000</td>\n",
       "      <td>7050.000000</td>\n",
       "      <td>7050.000000</td>\n",
       "      <td>7050.000000</td>\n",
       "      <td>7050.000000</td>\n",
       "      <td>7050.000000</td>\n",
       "      <td>7050.000000</td>\n",
       "    </tr>\n",
       "    <tr>\n",
       "      <th>mean</th>\n",
       "      <td>230.117163</td>\n",
       "      <td>224.356028</td>\n",
       "      <td>40.022553</td>\n",
       "      <td>215.043121</td>\n",
       "      <td>12.728652</td>\n",
       "      <td>1.289362</td>\n",
       "      <td>0.696454</td>\n",
       "      <td>0.243688</td>\n",
       "      <td>0.113191</td>\n",
       "    </tr>\n",
       "    <tr>\n",
       "      <th>std</th>\n",
       "      <td>462.625309</td>\n",
       "      <td>889.636820</td>\n",
       "      <td>131.599965</td>\n",
       "      <td>449.472357</td>\n",
       "      <td>39.972930</td>\n",
       "      <td>8.719650</td>\n",
       "      <td>3.957183</td>\n",
       "      <td>1.597156</td>\n",
       "      <td>0.726812</td>\n",
       "    </tr>\n",
       "    <tr>\n",
       "      <th>min</th>\n",
       "      <td>0.000000</td>\n",
       "      <td>0.000000</td>\n",
       "      <td>0.000000</td>\n",
       "      <td>0.000000</td>\n",
       "      <td>0.000000</td>\n",
       "      <td>0.000000</td>\n",
       "      <td>0.000000</td>\n",
       "      <td>0.000000</td>\n",
       "      <td>0.000000</td>\n",
       "    </tr>\n",
       "    <tr>\n",
       "      <th>25%</th>\n",
       "      <td>17.000000</td>\n",
       "      <td>0.000000</td>\n",
       "      <td>0.000000</td>\n",
       "      <td>17.000000</td>\n",
       "      <td>0.000000</td>\n",
       "      <td>0.000000</td>\n",
       "      <td>0.000000</td>\n",
       "      <td>0.000000</td>\n",
       "      <td>0.000000</td>\n",
       "    </tr>\n",
       "    <tr>\n",
       "      <th>50%</th>\n",
       "      <td>59.500000</td>\n",
       "      <td>4.000000</td>\n",
       "      <td>0.000000</td>\n",
       "      <td>58.000000</td>\n",
       "      <td>0.000000</td>\n",
       "      <td>0.000000</td>\n",
       "      <td>0.000000</td>\n",
       "      <td>0.000000</td>\n",
       "      <td>0.000000</td>\n",
       "    </tr>\n",
       "    <tr>\n",
       "      <th>75%</th>\n",
       "      <td>219.000000</td>\n",
       "      <td>23.000000</td>\n",
       "      <td>4.000000</td>\n",
       "      <td>184.750000</td>\n",
       "      <td>3.000000</td>\n",
       "      <td>0.000000</td>\n",
       "      <td>0.000000</td>\n",
       "      <td>0.000000</td>\n",
       "      <td>0.000000</td>\n",
       "    </tr>\n",
       "    <tr>\n",
       "      <th>max</th>\n",
       "      <td>4710.000000</td>\n",
       "      <td>20990.000000</td>\n",
       "      <td>3424.000000</td>\n",
       "      <td>4710.000000</td>\n",
       "      <td>657.000000</td>\n",
       "      <td>278.000000</td>\n",
       "      <td>157.000000</td>\n",
       "      <td>51.000000</td>\n",
       "      <td>31.000000</td>\n",
       "    </tr>\n",
       "  </tbody>\n",
       "</table>\n",
       "</div>"
      ],
      "text/plain": [
       "       num_reactions  num_comments   num_shares    num_likes    num_loves  \\\n",
       "count    7050.000000   7050.000000  7050.000000  7050.000000  7050.000000   \n",
       "mean      230.117163    224.356028    40.022553   215.043121    12.728652   \n",
       "std       462.625309    889.636820   131.599965   449.472357    39.972930   \n",
       "min         0.000000      0.000000     0.000000     0.000000     0.000000   \n",
       "25%        17.000000      0.000000     0.000000    17.000000     0.000000   \n",
       "50%        59.500000      4.000000     0.000000    58.000000     0.000000   \n",
       "75%       219.000000     23.000000     4.000000   184.750000     3.000000   \n",
       "max      4710.000000  20990.000000  3424.000000  4710.000000   657.000000   \n",
       "\n",
       "          num_wows    num_hahas     num_sads   num_angrys  \n",
       "count  7050.000000  7050.000000  7050.000000  7050.000000  \n",
       "mean      1.289362     0.696454     0.243688     0.113191  \n",
       "std       8.719650     3.957183     1.597156     0.726812  \n",
       "min       0.000000     0.000000     0.000000     0.000000  \n",
       "25%       0.000000     0.000000     0.000000     0.000000  \n",
       "50%       0.000000     0.000000     0.000000     0.000000  \n",
       "75%       0.000000     0.000000     0.000000     0.000000  \n",
       "max     278.000000   157.000000    51.000000    31.000000  "
      ]
     },
     "execution_count": 8,
     "metadata": {},
     "output_type": "execute_result"
    }
   ],
   "source": [
    "df.describe(exclude='object')"
   ]
  },
  {
   "cell_type": "markdown",
   "id": "dd20ad40-a0df-4a86-bde9-f68425d22eac",
   "metadata": {},
   "source": [
    "### Explore the `status_id` variable"
   ]
  },
  {
   "cell_type": "code",
   "execution_count": 9,
   "id": "2f33746f-3e8d-4560-8445-ba6846cda8b7",
   "metadata": {},
   "outputs": [
    {
     "data": {
      "text/plain": [
       "status_id\n",
       "819700534875473_957599447752247      2\n",
       "819700534875473_972433889602136      2\n",
       "819700534875473_981835315328660      2\n",
       "819700534875473_980941638751361      2\n",
       "819700534875473_978746665637525      2\n",
       "                                    ..\n",
       "246675545449582_264078163709320      1\n",
       "246675545449582_264081010375702      1\n",
       "246675545449582_264089710374832      1\n",
       "246675545449582_264092513707885      1\n",
       "1050855161656896_1050858841656528    1\n",
       "Name: count, Length: 6997, dtype: int64"
      ]
     },
     "execution_count": 9,
     "metadata": {},
     "output_type": "execute_result"
    }
   ],
   "source": [
    "df.status_id.value_counts()"
   ]
  },
  {
   "cell_type": "code",
   "execution_count": 10,
   "id": "2d3adee6-2b49-4930-9a0c-d926c4d08df3",
   "metadata": {},
   "outputs": [
    {
     "name": "stdout",
     "output_type": "stream",
     "text": [
      "There are 6997 unique status ids.\n"
     ]
    }
   ],
   "source": [
    "# Dispaly the number of unique values in the 'status_id' column\n",
    "unique_status_ids_count = df['status_id'].nunique()\n",
    "print(f\"There are {unique_status_ids_count} unique status ids.\")\n",
    "\n",
    "# We may choose to display the unique values in the 'status_id' column\n",
    "# unique_status_ids = df['status_id'].unique()\n",
    "# print(\"\\nUnique values in the 'status_id' column:\")\n",
    "# print(unique_status_ids)"
   ]
  },
  {
   "cell_type": "markdown",
   "id": "cf294ed2-6b07-41e6-b19a-d9e28051bbfd",
   "metadata": {},
   "source": [
    "### Explore the `status_published` variable"
   ]
  },
  {
   "cell_type": "code",
   "execution_count": 11,
   "id": "053b969f-d246-47bf-a23f-cb226b7be93d",
   "metadata": {},
   "outputs": [
    {
     "data": {
      "text/plain": [
       "array(['4/22/2018 6:00', '4/21/2018 22:45', '4/21/2018 6:17', ...,\n",
       "       '9/21/2016 23:03', '9/20/2016 0:43', '9/10/2016 10:30'],\n",
       "      dtype=object)"
      ]
     },
     "execution_count": 11,
     "metadata": {},
     "output_type": "execute_result"
    }
   ],
   "source": [
    "# view the labels in the status_published column\n",
    "df.status_published.unique()"
   ]
  },
  {
   "cell_type": "code",
   "execution_count": 12,
   "id": "4c187e37-b426-42c3-bd11-eadb1a2f1c87",
   "metadata": {},
   "outputs": [
    {
     "data": {
      "text/plain": [
       "status_published\n",
       "3/20/2018 1:54     3\n",
       "12/28/2017 8:09    2\n",
       "4/30/2018 6:20     2\n",
       "4/26/2018 19:00    2\n",
       "4/23/2018 7:26     2\n",
       "                  ..\n",
       "9/6/2012 9:01      1\n",
       "9/6/2012 9:16      1\n",
       "9/6/2012 23:17     1\n",
       "9/7/2012 0:21      1\n",
       "9/10/2016 10:30    1\n",
       "Name: count, Length: 6913, dtype: int64"
      ]
     },
     "execution_count": 12,
     "metadata": {},
     "output_type": "execute_result"
    }
   ],
   "source": [
    "# View how many values there are for different entries in the column\n",
    "df.status_published.value_counts()"
   ]
  },
  {
   "cell_type": "code",
   "execution_count": 13,
   "id": "b622cd37-c230-45af-a8d8-52c7a6881d23",
   "metadata": {},
   "outputs": [
    {
     "data": {
      "text/plain": [
       "6913"
      ]
     },
     "execution_count": 13,
     "metadata": {},
     "output_type": "execute_result"
    }
   ],
   "source": [
    "# view how many variables there aer in the column\n",
    "df.status_published.nunique()"
   ]
  },
  {
   "cell_type": "markdown",
   "id": "6e14fbc1-a34a-4887-8a5a-43cf58f4cce2",
   "metadata": {},
   "source": [
    "### Explore `status_type` variable"
   ]
  },
  {
   "cell_type": "code",
   "execution_count": 14,
   "id": "f13d34f2-006d-4397-946e-4db0f2ac3f0d",
   "metadata": {},
   "outputs": [
    {
     "data": {
      "text/plain": [
       "array(['video', 'photo', 'link', 'status'], dtype=object)"
      ]
     },
     "execution_count": 14,
     "metadata": {},
     "output_type": "execute_result"
    }
   ],
   "source": [
    "# view the labels in the variable\n",
    "df.status_type.unique()"
   ]
  },
  {
   "cell_type": "code",
   "execution_count": 15,
   "id": "52e2f8a9-dc1c-44c9-8db2-b6e41804e09c",
   "metadata": {},
   "outputs": [
    {
     "data": {
      "text/plain": [
       "status_type\n",
       "photo     4288\n",
       "video     2334\n",
       "status     365\n",
       "link        63\n",
       "Name: count, dtype: int64"
      ]
     },
     "execution_count": 15,
     "metadata": {},
     "output_type": "execute_result"
    }
   ],
   "source": [
    "# check how many rows there are for each label\n",
    "df.status_type.value_counts()"
   ]
  },
  {
   "cell_type": "markdown",
   "id": "21127434-c6c5-4a09-87f2-3a3d1f26e7a3",
   "metadata": {},
   "source": [
    "## Declaring Feature and Target Variable\n",
    "\n",
    "KMeans Clustering algorithm is for **unsupervised learning**, and it is usually used when we have unlabeled dataset. However, for the purpose of seeing how well KMeans does, we shall declare feature and target variables. We shall then use the feature and target varialbes to test how well our KMeans algorithm performs."
   ]
  },
  {
   "cell_type": "code",
   "execution_count": 16,
   "id": "692e4508-b46a-4916-8d44-e6f41af99721",
   "metadata": {},
   "outputs": [
    {
     "name": "stdout",
     "output_type": "stream",
     "text": [
      "Example feature vectors (X):\n",
      "   num_reactions  num_comments  num_shares  num_likes  num_loves  num_wows  \\\n",
      "0            529           512         262        432         92         3   \n",
      "1            150             0           0        150          0         0   \n",
      "\n",
      "   num_hahas  num_sads  num_angrys  \n",
      "0          1         1           0  \n",
      "1          0         0           0  \n",
      "\n",
      "Example target variables (y):\n",
      "0    video\n",
      "1    photo\n",
      "Name: status_type, dtype: object\n"
     ]
    }
   ],
   "source": [
    "# Drop irrelevant columns first\n",
    "df.drop(columns=['status_id', 'status_published'], inplace = True)\n",
    "\n",
    "# Select the feature vector first\n",
    "X = df.drop('status_type', axis = 1)\n",
    "\n",
    "# select the target variable\n",
    "y = df['status_type']\n",
    "\n",
    "print('Example feature vectors (X):')\n",
    "print(X.head(2))\n",
    "\n",
    "print('\\nExample target variables (y):')\n",
    "print(y.head(2))"
   ]
  },
  {
   "cell_type": "markdown",
   "id": "a0536a9a-3b78-4dde-8d73-4967bda3aec2",
   "metadata": {},
   "source": [
    "The following will convert the categories in `status_type`, i.e. the target variables, into numeric values $1,2,3,4$."
   ]
  },
  {
   "cell_type": "code",
   "execution_count": 17,
   "id": "c3ba3bb8-e8a1-49bb-975b-27f63d6609d0",
   "metadata": {},
   "outputs": [],
   "source": [
    "label_encoder = LabelEncoder()\n",
    "y = label_encoder.fit_transform(y)"
   ]
  },
  {
   "cell_type": "markdown",
   "id": "91400ac4-75e8-429e-875b-595b5c14d610",
   "metadata": {},
   "source": [
    "### View the summary of X"
   ]
  },
  {
   "cell_type": "code",
   "execution_count": 18,
   "id": "8e9cc4ba-70f2-44df-a7f9-ce65bb0db90a",
   "metadata": {},
   "outputs": [
    {
     "data": {
      "text/html": [
       "<div>\n",
       "<style scoped>\n",
       "    .dataframe tbody tr th:only-of-type {\n",
       "        vertical-align: middle;\n",
       "    }\n",
       "\n",
       "    .dataframe tbody tr th {\n",
       "        vertical-align: top;\n",
       "    }\n",
       "\n",
       "    .dataframe thead th {\n",
       "        text-align: right;\n",
       "    }\n",
       "</style>\n",
       "<table border=\"1\" class=\"dataframe\">\n",
       "  <thead>\n",
       "    <tr style=\"text-align: right;\">\n",
       "      <th></th>\n",
       "      <th>num_reactions</th>\n",
       "      <th>num_comments</th>\n",
       "      <th>num_shares</th>\n",
       "      <th>num_likes</th>\n",
       "      <th>num_loves</th>\n",
       "      <th>num_wows</th>\n",
       "      <th>num_hahas</th>\n",
       "      <th>num_sads</th>\n",
       "      <th>num_angrys</th>\n",
       "    </tr>\n",
       "  </thead>\n",
       "  <tbody>\n",
       "    <tr>\n",
       "      <th>count</th>\n",
       "      <td>7050.000000</td>\n",
       "      <td>7050.000000</td>\n",
       "      <td>7050.000000</td>\n",
       "      <td>7050.000000</td>\n",
       "      <td>7050.000000</td>\n",
       "      <td>7050.000000</td>\n",
       "      <td>7050.000000</td>\n",
       "      <td>7050.000000</td>\n",
       "      <td>7050.000000</td>\n",
       "    </tr>\n",
       "    <tr>\n",
       "      <th>mean</th>\n",
       "      <td>230.117163</td>\n",
       "      <td>224.356028</td>\n",
       "      <td>40.022553</td>\n",
       "      <td>215.043121</td>\n",
       "      <td>12.728652</td>\n",
       "      <td>1.289362</td>\n",
       "      <td>0.696454</td>\n",
       "      <td>0.243688</td>\n",
       "      <td>0.113191</td>\n",
       "    </tr>\n",
       "    <tr>\n",
       "      <th>std</th>\n",
       "      <td>462.625309</td>\n",
       "      <td>889.636820</td>\n",
       "      <td>131.599965</td>\n",
       "      <td>449.472357</td>\n",
       "      <td>39.972930</td>\n",
       "      <td>8.719650</td>\n",
       "      <td>3.957183</td>\n",
       "      <td>1.597156</td>\n",
       "      <td>0.726812</td>\n",
       "    </tr>\n",
       "    <tr>\n",
       "      <th>min</th>\n",
       "      <td>0.000000</td>\n",
       "      <td>0.000000</td>\n",
       "      <td>0.000000</td>\n",
       "      <td>0.000000</td>\n",
       "      <td>0.000000</td>\n",
       "      <td>0.000000</td>\n",
       "      <td>0.000000</td>\n",
       "      <td>0.000000</td>\n",
       "      <td>0.000000</td>\n",
       "    </tr>\n",
       "    <tr>\n",
       "      <th>25%</th>\n",
       "      <td>17.000000</td>\n",
       "      <td>0.000000</td>\n",
       "      <td>0.000000</td>\n",
       "      <td>17.000000</td>\n",
       "      <td>0.000000</td>\n",
       "      <td>0.000000</td>\n",
       "      <td>0.000000</td>\n",
       "      <td>0.000000</td>\n",
       "      <td>0.000000</td>\n",
       "    </tr>\n",
       "    <tr>\n",
       "      <th>50%</th>\n",
       "      <td>59.500000</td>\n",
       "      <td>4.000000</td>\n",
       "      <td>0.000000</td>\n",
       "      <td>58.000000</td>\n",
       "      <td>0.000000</td>\n",
       "      <td>0.000000</td>\n",
       "      <td>0.000000</td>\n",
       "      <td>0.000000</td>\n",
       "      <td>0.000000</td>\n",
       "    </tr>\n",
       "    <tr>\n",
       "      <th>75%</th>\n",
       "      <td>219.000000</td>\n",
       "      <td>23.000000</td>\n",
       "      <td>4.000000</td>\n",
       "      <td>184.750000</td>\n",
       "      <td>3.000000</td>\n",
       "      <td>0.000000</td>\n",
       "      <td>0.000000</td>\n",
       "      <td>0.000000</td>\n",
       "      <td>0.000000</td>\n",
       "    </tr>\n",
       "    <tr>\n",
       "      <th>max</th>\n",
       "      <td>4710.000000</td>\n",
       "      <td>20990.000000</td>\n",
       "      <td>3424.000000</td>\n",
       "      <td>4710.000000</td>\n",
       "      <td>657.000000</td>\n",
       "      <td>278.000000</td>\n",
       "      <td>157.000000</td>\n",
       "      <td>51.000000</td>\n",
       "      <td>31.000000</td>\n",
       "    </tr>\n",
       "  </tbody>\n",
       "</table>\n",
       "</div>"
      ],
      "text/plain": [
       "       num_reactions  num_comments   num_shares    num_likes    num_loves  \\\n",
       "count    7050.000000   7050.000000  7050.000000  7050.000000  7050.000000   \n",
       "mean      230.117163    224.356028    40.022553   215.043121    12.728652   \n",
       "std       462.625309    889.636820   131.599965   449.472357    39.972930   \n",
       "min         0.000000      0.000000     0.000000     0.000000     0.000000   \n",
       "25%        17.000000      0.000000     0.000000    17.000000     0.000000   \n",
       "50%        59.500000      4.000000     0.000000    58.000000     0.000000   \n",
       "75%       219.000000     23.000000     4.000000   184.750000     3.000000   \n",
       "max      4710.000000  20990.000000  3424.000000  4710.000000   657.000000   \n",
       "\n",
       "          num_wows    num_hahas     num_sads   num_angrys  \n",
       "count  7050.000000  7050.000000  7050.000000  7050.000000  \n",
       "mean      1.289362     0.696454     0.243688     0.113191  \n",
       "std       8.719650     3.957183     1.597156     0.726812  \n",
       "min       0.000000     0.000000     0.000000     0.000000  \n",
       "25%       0.000000     0.000000     0.000000     0.000000  \n",
       "50%       0.000000     0.000000     0.000000     0.000000  \n",
       "75%       0.000000     0.000000     0.000000     0.000000  \n",
       "max     278.000000   157.000000    51.000000    31.000000  "
      ]
     },
     "metadata": {},
     "output_type": "display_data"
    }
   ],
   "source": [
    "display(X.describe())"
   ]
  },
  {
   "cell_type": "code",
   "execution_count": 19,
   "id": "991020f5-edfd-43ca-a687-5afe083a8307",
   "metadata": {},
   "outputs": [
    {
     "data": {
      "text/html": [
       "<div>\n",
       "<style scoped>\n",
       "    .dataframe tbody tr th:only-of-type {\n",
       "        vertical-align: middle;\n",
       "    }\n",
       "\n",
       "    .dataframe tbody tr th {\n",
       "        vertical-align: top;\n",
       "    }\n",
       "\n",
       "    .dataframe thead th {\n",
       "        text-align: right;\n",
       "    }\n",
       "</style>\n",
       "<table border=\"1\" class=\"dataframe\">\n",
       "  <thead>\n",
       "    <tr style=\"text-align: right;\">\n",
       "      <th></th>\n",
       "      <th>num_reactions</th>\n",
       "      <th>num_comments</th>\n",
       "      <th>num_shares</th>\n",
       "      <th>num_likes</th>\n",
       "      <th>num_loves</th>\n",
       "      <th>num_wows</th>\n",
       "      <th>num_hahas</th>\n",
       "      <th>num_sads</th>\n",
       "      <th>num_angrys</th>\n",
       "    </tr>\n",
       "  </thead>\n",
       "  <tbody>\n",
       "    <tr>\n",
       "      <th>0</th>\n",
       "      <td>529</td>\n",
       "      <td>512</td>\n",
       "      <td>262</td>\n",
       "      <td>432</td>\n",
       "      <td>92</td>\n",
       "      <td>3</td>\n",
       "      <td>1</td>\n",
       "      <td>1</td>\n",
       "      <td>0</td>\n",
       "    </tr>\n",
       "    <tr>\n",
       "      <th>1</th>\n",
       "      <td>150</td>\n",
       "      <td>0</td>\n",
       "      <td>0</td>\n",
       "      <td>150</td>\n",
       "      <td>0</td>\n",
       "      <td>0</td>\n",
       "      <td>0</td>\n",
       "      <td>0</td>\n",
       "      <td>0</td>\n",
       "    </tr>\n",
       "    <tr>\n",
       "      <th>2</th>\n",
       "      <td>227</td>\n",
       "      <td>236</td>\n",
       "      <td>57</td>\n",
       "      <td>204</td>\n",
       "      <td>21</td>\n",
       "      <td>1</td>\n",
       "      <td>1</td>\n",
       "      <td>0</td>\n",
       "      <td>0</td>\n",
       "    </tr>\n",
       "    <tr>\n",
       "      <th>3</th>\n",
       "      <td>111</td>\n",
       "      <td>0</td>\n",
       "      <td>0</td>\n",
       "      <td>111</td>\n",
       "      <td>0</td>\n",
       "      <td>0</td>\n",
       "      <td>0</td>\n",
       "      <td>0</td>\n",
       "      <td>0</td>\n",
       "    </tr>\n",
       "    <tr>\n",
       "      <th>4</th>\n",
       "      <td>213</td>\n",
       "      <td>0</td>\n",
       "      <td>0</td>\n",
       "      <td>204</td>\n",
       "      <td>9</td>\n",
       "      <td>0</td>\n",
       "      <td>0</td>\n",
       "      <td>0</td>\n",
       "      <td>0</td>\n",
       "    </tr>\n",
       "  </tbody>\n",
       "</table>\n",
       "</div>"
      ],
      "text/plain": [
       "   num_reactions  num_comments  num_shares  num_likes  num_loves  num_wows  \\\n",
       "0            529           512         262        432         92         3   \n",
       "1            150             0           0        150          0         0   \n",
       "2            227           236          57        204         21         1   \n",
       "3            111             0           0        111          0         0   \n",
       "4            213             0           0        204          9         0   \n",
       "\n",
       "   num_hahas  num_sads  num_angrys  \n",
       "0          1         1           0  \n",
       "1          0         0           0  \n",
       "2          1         0           0  \n",
       "3          0         0           0  \n",
       "4          0         0           0  "
      ]
     },
     "execution_count": 19,
     "metadata": {},
     "output_type": "execute_result"
    }
   ],
   "source": [
    "X.head()"
   ]
  },
  {
   "cell_type": "markdown",
   "id": "e691fd7b-1d5d-4522-8932-73e2cef36893",
   "metadata": {},
   "source": [
    "## Feature Scaling\n",
    "\n",
    "The `MinMaxScaler()` transforms a value $x \\in X$ so that each feature $x_i$ gets converted to the value $\\frac{x_i - \\displaystyle\\min_{x \\in X} x_i}{\\displaystyle\\max_{x \\in X} x_i - \\displaystyle\\min_{x \\in X} x_i}$. The transformed vector thus has each of its features as between $0$ and $1$."
   ]
  },
  {
   "cell_type": "code",
   "execution_count": 20,
   "id": "63ee032c-a35d-42f3-938e-dda953d4f8b2",
   "metadata": {},
   "outputs": [],
   "source": [
    "scaler = MinMaxScaler()\n",
    "X_scaled = scaler.fit_transform(X)"
   ]
  },
  {
   "cell_type": "markdown",
   "id": "4adaba44-087f-4136-a06a-57a9c10976c3",
   "metadata": {},
   "source": [
    "## KMeans Model with Two Clusters"
   ]
  },
  {
   "cell_type": "code",
   "execution_count": 21,
   "id": "0169f085-84f4-4027-830b-666a1e632bc3",
   "metadata": {},
   "outputs": [
    {
     "data": {
      "text/html": [
       "<style>#sk-container-id-1 {color: black;background-color: white;}#sk-container-id-1 pre{padding: 0;}#sk-container-id-1 div.sk-toggleable {background-color: white;}#sk-container-id-1 label.sk-toggleable__label {cursor: pointer;display: block;width: 100%;margin-bottom: 0;padding: 0.3em;box-sizing: border-box;text-align: center;}#sk-container-id-1 label.sk-toggleable__label-arrow:before {content: \"▸\";float: left;margin-right: 0.25em;color: #696969;}#sk-container-id-1 label.sk-toggleable__label-arrow:hover:before {color: black;}#sk-container-id-1 div.sk-estimator:hover label.sk-toggleable__label-arrow:before {color: black;}#sk-container-id-1 div.sk-toggleable__content {max-height: 0;max-width: 0;overflow: hidden;text-align: left;background-color: #f0f8ff;}#sk-container-id-1 div.sk-toggleable__content pre {margin: 0.2em;color: black;border-radius: 0.25em;background-color: #f0f8ff;}#sk-container-id-1 input.sk-toggleable__control:checked~div.sk-toggleable__content {max-height: 200px;max-width: 100%;overflow: auto;}#sk-container-id-1 input.sk-toggleable__control:checked~label.sk-toggleable__label-arrow:before {content: \"▾\";}#sk-container-id-1 div.sk-estimator input.sk-toggleable__control:checked~label.sk-toggleable__label {background-color: #d4ebff;}#sk-container-id-1 div.sk-label input.sk-toggleable__control:checked~label.sk-toggleable__label {background-color: #d4ebff;}#sk-container-id-1 input.sk-hidden--visually {border: 0;clip: rect(1px 1px 1px 1px);clip: rect(1px, 1px, 1px, 1px);height: 1px;margin: -1px;overflow: hidden;padding: 0;position: absolute;width: 1px;}#sk-container-id-1 div.sk-estimator {font-family: monospace;background-color: #f0f8ff;border: 1px dotted black;border-radius: 0.25em;box-sizing: border-box;margin-bottom: 0.5em;}#sk-container-id-1 div.sk-estimator:hover {background-color: #d4ebff;}#sk-container-id-1 div.sk-parallel-item::after {content: \"\";width: 100%;border-bottom: 1px solid gray;flex-grow: 1;}#sk-container-id-1 div.sk-label:hover label.sk-toggleable__label {background-color: #d4ebff;}#sk-container-id-1 div.sk-serial::before {content: \"\";position: absolute;border-left: 1px solid gray;box-sizing: border-box;top: 0;bottom: 0;left: 50%;z-index: 0;}#sk-container-id-1 div.sk-serial {display: flex;flex-direction: column;align-items: center;background-color: white;padding-right: 0.2em;padding-left: 0.2em;position: relative;}#sk-container-id-1 div.sk-item {position: relative;z-index: 1;}#sk-container-id-1 div.sk-parallel {display: flex;align-items: stretch;justify-content: center;background-color: white;position: relative;}#sk-container-id-1 div.sk-item::before, #sk-container-id-1 div.sk-parallel-item::before {content: \"\";position: absolute;border-left: 1px solid gray;box-sizing: border-box;top: 0;bottom: 0;left: 50%;z-index: -1;}#sk-container-id-1 div.sk-parallel-item {display: flex;flex-direction: column;z-index: 1;position: relative;background-color: white;}#sk-container-id-1 div.sk-parallel-item:first-child::after {align-self: flex-end;width: 50%;}#sk-container-id-1 div.sk-parallel-item:last-child::after {align-self: flex-start;width: 50%;}#sk-container-id-1 div.sk-parallel-item:only-child::after {width: 0;}#sk-container-id-1 div.sk-dashed-wrapped {border: 1px dashed gray;margin: 0 0.4em 0.5em 0.4em;box-sizing: border-box;padding-bottom: 0.4em;background-color: white;}#sk-container-id-1 div.sk-label label {font-family: monospace;font-weight: bold;display: inline-block;line-height: 1.2em;}#sk-container-id-1 div.sk-label-container {text-align: center;}#sk-container-id-1 div.sk-container {/* jupyter's `normalize.less` sets `[hidden] { display: none; }` but bootstrap.min.css set `[hidden] { display: none !important; }` so we also need the `!important` here to be able to override the default hidden behavior on the sphinx rendered scikit-learn.org. See: https://github.com/scikit-learn/scikit-learn/issues/21755 */display: inline-block !important;position: relative;}#sk-container-id-1 div.sk-text-repr-fallback {display: none;}</style><div id=\"sk-container-id-1\" class=\"sk-top-container\"><div class=\"sk-text-repr-fallback\"><pre>KMeans(n_clusters=2)</pre><b>In a Jupyter environment, please rerun this cell to show the HTML representation or trust the notebook. <br />On GitHub, the HTML representation is unable to render, please try loading this page with nbviewer.org.</b></div><div class=\"sk-container\" hidden><div class=\"sk-item\"><div class=\"sk-estimator sk-toggleable\"><input class=\"sk-toggleable__control sk-hidden--visually\" id=\"sk-estimator-id-1\" type=\"checkbox\" checked><label for=\"sk-estimator-id-1\" class=\"sk-toggleable__label sk-toggleable__label-arrow\">KMeans</label><div class=\"sk-toggleable__content\"><pre>KMeans(n_clusters=2)</pre></div></div></div></div></div>"
      ],
      "text/plain": [
       "KMeans(n_clusters=2)"
      ]
     },
     "execution_count": 21,
     "metadata": {},
     "output_type": "execute_result"
    }
   ],
   "source": [
    "kmeans = KMeans(n_clusters = 2)\n",
    "kmeans.fit(X_scaled)"
   ]
  },
  {
   "cell_type": "markdown",
   "id": "a149b273-499d-43c6-a8ab-4c80f4dfea68",
   "metadata": {},
   "source": [
    "## KMeans model parameters\n",
    "\n",
    "We now look at the cluster centers, i.e. the representatives of each cluster."
   ]
  },
  {
   "cell_type": "code",
   "execution_count": 22,
   "id": "acad0fd1-2901-4064-9cfc-cd0b92773b37",
   "metadata": {},
   "outputs": [
    {
     "data": {
      "text/plain": [
       "array([[0.02483047, 0.00932759, 0.00889636, 0.02254048, 0.01423501,\n",
       "        0.00215728, 0.00331136, 0.00441161, 0.00279261],\n",
       "       [0.35566655, 0.02806954, 0.04734731, 0.34084022, 0.08499512,\n",
       "        0.03631548, 0.01879727, 0.00945925, 0.01461694]])"
      ]
     },
     "execution_count": 22,
     "metadata": {},
     "output_type": "execute_result"
    }
   ],
   "source": [
    "kmeans.cluster_centers_"
   ]
  },
  {
   "cell_type": "markdown",
   "id": "103771fd-7f86-4090-b921-3e3336785906",
   "metadata": {},
   "source": [
    "### Inertia\n",
    "\n",
    "*Inertia* is another measure how well a dataset was clustered by KMeans. It's the sum of squared distances between each datapoint and its centroid.\n",
    "\n",
    "In other words, the inertia $J$ is defined as \n",
    "\n",
    "$J := \\displaystyle\\sum_{k=1}^K\\sum_{\\substack{i=1,...,n_k \\\\ \\text{$x_i$ is in cluster $k$}}} ||x_i - \\mu_k||^2$\n",
    "\n",
    "where \n",
    "\n",
    "$\\mu_k := \\frac{1}{n_k} \\displaystyle\\sum_{i=1}^k x_k$.\n",
    "\n",
    "We notice that setting $k = 1000$ for a dataset of $1000$ datapoints will give us a zero inertia. However, this is likely not what we want in most applications. We want the inertia is low, but we also want the number of clusters to be not large so that we can make meaningful clusters. For a KMeans clustering result to be a good clustering, we want **low inertia and a low number of clusters.** As the number of clusters, $K$, increases, the inertias tends to decrease. We want to find a right balance.\n",
    "\n",
    "A way to find that right balance is the **Elbow method**: find the point where the decrease in inertia begins to slow."
   ]
  },
  {
   "cell_type": "markdown",
   "id": "f4a358f3-c52d-4611-8cff-66eac947524f",
   "metadata": {},
   "source": [
    "<img src=\"https://content.codecademy.com/programs/machine-learning/k-means/number-of-clusters.svg\">\n",
    "<p>K=3 is considered an optimal number of clusters based on the above graph because it's where the 'elbow bends.'</p>"
   ]
  },
  {
   "cell_type": "code",
   "execution_count": 23,
   "id": "4484ca32-a13d-4c2e-b33b-9fe71df4df9d",
   "metadata": {},
   "outputs": [
    {
     "data": {
      "text/plain": [
       "99.50082638379907"
      ]
     },
     "execution_count": 23,
     "metadata": {},
     "output_type": "execute_result"
    }
   ],
   "source": [
    "# explore inertia of our dataset\n",
    "kmeans.inertia_"
   ]
  },
  {
   "cell_type": "code",
   "execution_count": 24,
   "id": "addd4dbc-1bfa-4d93-a004-26600bcb15c7",
   "metadata": {},
   "outputs": [
    {
     "name": "stdout",
     "output_type": "stream",
     "text": [
      "Silhouette Score for 2 clusters: 0.8125263296259583\n"
     ]
    }
   ],
   "source": [
    "## Check the quality of the classification\n",
    "silhouette_avg = silhouette_score(X_scaled, kmeans.labels_)\n",
    "print(f\"Silhouette Score for 2 clusters: {silhouette_avg}\")"
   ]
  },
  {
   "cell_type": "markdown",
   "id": "df7a5720-bb6a-4800-838e-23d3ffbfbc7b",
   "metadata": {},
   "source": [
    "[The silhouette score](https://www.youtube.com/watch?v=5TPldC_dC0s) is a score that we assign to each point after applying a clustering algorithm. \n",
    "\n",
    "The silhouette score is a measure of how similar a datapiont is within-cluster (cohesion) compared to other clusters (separation).\n",
    "\n",
    "The **idea** for a clustering point $p$ in the cluster $i$ is to somehow define how well a point is situated in its cluster, i.e. measure something like\n",
    "$s(p) ?\\cong? \\frac{\\text{average of the distances between the point p and another point in the cluster i}}{\\text{average of the distance between the point p and another point in the cluster j, where the cluster j is a different cluster from i}}$.\n",
    "\n",
    "That is the *idea* and not the precise formula. There is slight modification and with justifiable reason, which you can find in this [detailed Youtube explanation](https://www.youtube.com/watch?v=wW1tgWtkj4I). The above 'formula' for the intuition behind the silhouette score is normalized so that the silhouette score of a point $p$ is between $-1$ and $1$, and the closer $s(p)$ is to $1$ the more similar a datapoint is to other points in the same cluster compared to points in other clusters.\n",
    "\n",
    "More precisely,\n",
    "\n",
    "$s(p) = \\frac{b(p) - a(p)}{\\max \\{a(i), b(i) \\}}$\n",
    "\n",
    "where $a(p)$ is the average distance between $p$ and all the other datapoints in the cluster to which $p$ belongs, and $b(p)$ is the average distance between $p$ to all points outside of its cluster. For a good cluster, we want, for any datapoint $p$, $b(p)$ to be large and $a(p)$ to be small. Because we want $s(p)$ as a measure of how *well* our data is situated in-cluster compared to its situation in other clusters, the numerator $b(p) - a(p)$ makes sense. The denominator is meant to scale this number so that $s(p)$ is always between $-1$ and $1$."
   ]
  },
  {
   "cell_type": "markdown",
   "id": "b149a0b5-e579-4841-b92f-bbdfc1fbda37",
   "metadata": {},
   "source": [
    "<img src=\"https://th.bing.com/th/id/R.49c18da60dfdbe6567ba45ef98e485b2?rik=WVY5ogDm0au4Mg&riu=http%3a%2f%2fclipart-library.com%2fimages_k%2flab-puppy-silhouette%2flab-puppy-silhouette-9.png&ehk=4wlEKp02VmXD9yZ681Fw2tVAFkIUuIbtjTMCbUgCGRI%3d&risl=&pid=ImgRaw&r=0\" width = 300>\n",
    "\n",
    "<p> By analogy, silhouette score can be thought of as a measure of how any of a dog's body part is \"well-situated\" within the dog's body (the black part of the image) compared to its dissimilarity with anything that's not part of a dog's body (the white part).</p>"
   ]
  },
  {
   "cell_type": "markdown",
   "id": "49506889-6e75-4513-b4cd-2d2a4dfcf9e1",
   "metadata": {},
   "source": [
    "For a good cluster, we want the silhouette score for all points in our dataset to be as high as possible. For that, we calculate the average silhouette score for a given choice of $K$, across all datapoints. The value of $K$ that gives the lowest silhouette score is considered as an optimal value of $K$."
   ]
  },
  {
   "cell_type": "markdown",
   "id": "c9fa2fd2-2df5-45c3-ba73-178a80958b79",
   "metadata": {},
   "source": [
    "<img src=\"https://th.bing.com/th/id/OIP.Epu3KwJ5EDNTXMi7fusN6wAAAA?rs=1&pid=ImgDetMain\">\n",
    "<p>The highest sihouette score can be corerlated with the 'best' number of clusters.</p>"
   ]
  },
  {
   "cell_type": "markdown",
   "id": "17dd3600-516e-4a04-abe0-8557cf4a41cc",
   "metadata": {},
   "source": [
    "For demonstration, we use the inertia and elbow method to find the best number of clusters."
   ]
  },
  {
   "cell_type": "code",
   "execution_count": 25,
   "id": "a87eac5e-3a6e-42bd-8800-6c7b2766acb0",
   "metadata": {},
   "outputs": [
    {
     "data": {
      "image/png": "[encoded data removed]",
      "text/plain": [
       "<Figure size 1000x600 with 1 Axes>"
      ]
     },
     "metadata": {},
     "output_type": "display_data"
    }
   ],
   "source": [
    "inertia = []\n",
    "for k in range(1, 11):\n",
    "    kmeans = KMeans(n_clusters = k)\n",
    "    kmeans.fit(X_scaled)\n",
    "    inertia.append(kmeans.inertia_)\n",
    "\n",
    "plt.figure(figsize = (10, 6))\n",
    "plt.plot(range(1,11), inertia, marker = 'o', linestyle='--')\n",
    "plt.xlabel('Number of Clusters')\n",
    "plt.ylabel('Inertia')\n",
    "plt.title('Elbow Method (Using Inertia)')\n",
    "plt.show()"
   ]
  },
  {
   "cell_type": "markdown",
   "id": "d1fb5c5a-7ddf-40bc-ab3e-309231fdb478",
   "metadata": {},
   "source": [
    "We set our cluster to 2, since the elbow method tells us this is a reasonable choice."
   ]
  },
  {
   "cell_type": "code",
   "execution_count": 26,
   "id": "59458ef0-4c43-46c6-8679-af38b61d953c",
   "metadata": {},
   "outputs": [
    {
     "name": "stdout",
     "output_type": "stream",
     "text": [
      "Result: 275 out of 7050 samples were correctly labeled.\n",
      "Accuracy score: 0.04\n"
     ]
    }
   ],
   "source": [
    "# Set cluster = 2\n",
    "kmeans2 = KMeans(n_clusters = 2)\n",
    "kmeans2.fit(X_scaled)\n",
    "labels = kmeans2.labels_\n",
    "\n",
    "# check how many samples were correctly labeled\n",
    "\n",
    "correct_labels = sum(y == labels)\n",
    "\n",
    "print(\"Result: %d out of %d samples were correctly labeled.\" % (correct_labels, y.size))\n",
    "\n",
    "print('Accuracy score: {0:0.2f}'. format(correct_labels/float(y.size)))"
   ]
  },
  {
   "cell_type": "markdown",
   "id": "7eecc0d9-c210-4e2d-a11c-539a8aab3669",
   "metadata": {},
   "source": [
    "## KMeans model with Different Clusters"
   ]
  },
  {
   "cell_type": "markdown",
   "id": "4a76aa8f-7fd0-469e-bc58-b5df6c70b060",
   "metadata": {},
   "source": [
    "Let us see how accurate our cluster models are across other values of $K$."
   ]
  },
  {
   "cell_type": "code",
   "execution_count": 27,
   "id": "a49d5189-a417-4796-9002-36d07dfb5bc9",
   "metadata": {},
   "outputs": [
    {
     "name": "stdout",
     "output_type": "stream",
     "text": [
      "Result: 118 out of 7050 samples were correctly labeled.\n",
      "Accuracy score: 0.02\n"
     ]
    }
   ],
   "source": [
    "# Set cluster = 3\n",
    "kmeans3 = KMeans(n_clusters=3, random_state=42)\n",
    "kmeans3.fit(X_scaled)\n",
    "labels = kmeans3.labels_\n",
    "\n",
    "# check how many of the samples were correctly labeled\n",
    "\n",
    "correct_labels = sum(y == labels)\n",
    "print(\"Result: %d out of %d samples were correctly labeled.\" % (correct_labels, y.size))\n",
    "print('Accuracy score: {0:0.2f}'. format(correct_labels/float(y.size)))"
   ]
  },
  {
   "cell_type": "code",
   "execution_count": 28,
   "id": "6182c4ec-ba29-4574-a458-050a63efe6d9",
   "metadata": {},
   "outputs": [
    {
     "name": "stdout",
     "output_type": "stream",
     "text": [
      "Result: 511 out of 7050 samples were correctly labeled.\n",
      "Accuracy score: 0.07\n"
     ]
    }
   ],
   "source": [
    "# Set cluster = 4 \n",
    "kmeans4 = KMeans(n_clusters=4, random_state=42)\n",
    "kmeans4.fit(X_scaled)\n",
    "labels = kmeans4.labels_\n",
    "\n",
    "# check how many of the samples were correctly labeled\n",
    "\n",
    "correct_labels = sum(y == labels)\n",
    "print(\"Result: %d out of %d samples were correctly labeled.\" % (correct_labels, y.size))\n",
    "print('Accuracy score: {0:0.2f}'. format(correct_labels/float(y.size)))"
   ]
  },
  {
   "cell_type": "markdown",
   "id": "f0ceaa51-e160-4d75-90c2-759effffdf35",
   "metadata": {},
   "source": [
    "We notice that the accuracies are pretty low, and that the KMeans algorithm with 4 clusters seems to perform well.\n",
    "\n",
    "Here we make an analysis of why that may be the case:\n",
    "\n",
    "1. The target variables were incorrectly identified.\n",
    "\n",
    "In other words, because the KMeans algorithm categories *classes* and assigns numbers to the classes, it may be that a class that was labeled by `sklearn.preprocessing.LabelEncoder()` as $1$ may have been classified by the algorithm as $0$, and so on, so that we have such a low accuracy. This makes sense, since the lower accuracy may in fact be the highest accuracy with relabeling the target variables.\n",
    "\n",
    "2. There are some patterns not detectable by KMeans (i.e. KMeans may not have been the best clustering algorithm in our case)\n",
    "\n",
    "This point is further elustrated in the disadvantages of KMeans, point 3, below. Stated in simple terms, there may have been some clusters that encircle other clusters when they are plotted, so that KMeans, which is based only on distances, failed to capture such behaviors."
   ]
  },
  {
   "cell_type": "markdown",
   "id": "92719de3-340e-4294-8ca2-9b6734cde080",
   "metadata": {},
   "source": [
    "## Disadvantages of KMeans and Ways to Overcome Them"
   ]
  },
  {
   "cell_type": "markdown",
   "id": "1388595e-11a0-421d-a2ee-a4e279667340",
   "metadata": {},
   "source": [
    "While the implemented `sklearn.cluster.KMeans` is a good model for clustering, KMeans has some disadvantages. We look at some of them and address ways to overcome or mitigate their effects.\n",
    "\n",
    "1. We must choose the number of clusters, $K$, in advance.\n",
    "\n",
    "This can be overcome by the Elbow method using Inertia or the Silhouette Analysis. Still, This may require significant more computational time as the size of the data grows.\n",
    "\n",
    "2. KMeans is sensitive to the scale of the data.\n",
    "\n",
    "Distance in each direction is treated as equally important - for example, if we were doing clustering of people based on their heartbeat rate and their height in feet, the height would be considered less important for clustering because for most people their height is less than $7$ feet while their heartbeat usually is over $100$ per minute. We can overcome this by rescaling our data, which was the reason why we applied `sklearn.preprocessing.MinMaxScaler()` before running our algorithm in the dataset above.\n",
    "\n",
    "3. KMeans is sensitive to the shape of the data.\n",
    "\n",
    "For example, we may have a dataset that has an obvious clusters but would be incorrecrtly classified by KMeans, since the KMeans seeks to label the datapoints according to how close they are to centroids:\n",
    "\n",
    "<img src=\"https://th.bing.com/th/id/R.6db08990e2bfbf4f024793d15a30cc6d?rik=irVtKbcGsQt3wg&pid=ImgRaw&r=0\">\n",
    "\n",
    "For those, we can use other clustering methods that are density-based clustering, the prime example of which is DBSCAN."
   ]
  }
 ],
 "metadata": {
  "kernelspec": {
   "display_name": "Python 3 (ipykernel)",
   "language": "python",
   "name": "python3"
  },
  "language_info": {
   "codemirror_mode": {
    "name": "ipython",
    "version": 3
   },
   "file_extension": ".py",
   "mimetype": "text/x-python",
   "name": "python",
   "nbconvert_exporter": "python",
   "pygments_lexer": "ipython3",
   "version": "3.11.7"
  }
 },
 "nbformat": 4,
 "nbformat_minor": 5
}
